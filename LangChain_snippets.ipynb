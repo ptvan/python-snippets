{
 "cells": [
  {
   "cell_type": "code",
   "execution_count": null,
   "id": "2d539fce",
   "metadata": {},
   "outputs": [
    {
     "name": "stdout",
     "output_type": "stream",
     "text": [
      "Input text: It was the best of times, it was the worst of times\n",
      "Raw model output: The sentiment of this text is neutral with a tone of introspection and irony. The use of the phrase \"it was the best of times\" and \"it was the worst of times\" suggests a sense of dualism and ambivalence, implying that both extremes coexist in a particular situation or era.\n",
      "\n",
      "The tone is also somewhat melancholic and nostalgic, as if the speaker is reflecting on a past experience or era that had both positive and negative aspects. The phrase \"it was the best of times\" has a slightly optimistic connotation, while \"it was the worst of times\" has a more pessimistic undertone.\n",
      "\n",
      "Overall, the sentiment of this text can be described as bittersweet and philosophical, inviting the reader to consider the complexities and contradictions of human experience.\n"
     ]
    }
   ],
   "source": [
    "from langchain_core.prompts import ChatPromptTemplate\n",
    "from langchain_core.output_parsers import StrOutputParser\n",
    "from langchain_ollama.llms import OllamaLLM\n",
    "\n",
    "# using llama3.2 through Ollama\n",
    "model = OllamaLLM(model=\"llama3.2\")\n",
    "\n",
    "prompt = ChatPromptTemplate.from_messages([\n",
    "            (\"system\", \"You are a sentiment analysis expert. Analyze the sentiment of the given text and respond with only one word\"),\n",
    "            (\"human\", \"Analyze the sentiment of the following text: {text}\")\n",
    "        ])\n",
    "\n",
    "output_parser = StrOutputParser()\n",
    "chain = prompt | model \n",
    "\n",
    "text = \"It was the best of times, it was the worst of times\"\n",
    "\n",
    "result = chain.invoke({\"text\": text})"
   ]
  }
 ],
 "metadata": {
  "kernelspec": {
   "display_name": "base",
   "language": "python",
   "name": "python3"
  },
  "language_info": {
   "codemirror_mode": {
    "name": "ipython",
    "version": 3
   },
   "file_extension": ".py",
   "mimetype": "text/x-python",
   "name": "python",
   "nbconvert_exporter": "python",
   "pygments_lexer": "ipython3",
   "version": "3.12.5"
  }
 },
 "nbformat": 4,
 "nbformat_minor": 5
}
