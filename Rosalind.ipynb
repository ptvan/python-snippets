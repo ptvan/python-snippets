{
 "cells": [
  {
   "cell_type": "code",
   "execution_count": 2,
   "metadata": {},
   "outputs": [],
   "source": [
    "FASTA_sequences = {'Rosalind_6404':'CCTGCGGAAGATCGGCACTAGAATAGCCAGAACCGTTTCTCTGAGGCTTCCGGCCTTCCCTCCCACTAATAATTCTGAGG',\n",
    "                   'Rosalind_5959':'CCATCGGTAGCGCATCCTTAGTCCAATTAAGTCCCTATCCAGGCGCTCCGCCGAAGGTCTATATCCATTTGTCAGCAGACACGC',\n",
    "                   'Rosalind_0808':'CCACCCTCGTGGTATGGCTAGGCATTCAGGAACCGGAGAACGCTTCAGACCAGCCCGGACTGGGAACCTGCGGGCAGTAGGTGGAAT'\n",
    "                   }"
   ]
  },
  {
   "cell_type": "code",
   "execution_count": 3,
   "metadata": {},
   "outputs": [
    {
     "data": {
      "text/plain": [
       "dict_keys(['Rosalind_6404', 'Rosalind_5959', 'Rosalind_0808'])"
      ]
     },
     "execution_count": 3,
     "metadata": {},
     "output_type": "execute_result"
    }
   ],
   "source": [
    "FASTA_sequences.keys()\n"
   ]
  },
  {
   "cell_type": "code",
   "execution_count": 4,
   "metadata": {},
   "outputs": [],
   "source": [
    "def GC_percentage(seq):\n",
    "    return (seq.count('C') + seq.count('G')) / len(seq) * 100\n",
    "\n",
    "def complement(seq):\n",
    "    basecomplement = {'A':'T',\n",
    "                       'C':'G',\n",
    "                       'G':'C',\n",
    "                       'T':'A'}\n",
    "    return(''.join([basecomplement[b] for b in seq]))\n",
    "\n",
    "def DNAtoRNA(DNA):\n",
    "    RNAbases = {'A':'A',\n",
    "                'C':'C',\n",
    "                'G':'G',\n",
    "                'T':'U'}\n",
    "    return(''.join([RNAbases[b] for b in DNA]))"
   ]
  },
  {
   "cell_type": "code",
   "execution_count": 18,
   "metadata": {},
   "outputs": [
    {
     "name": "stdout",
     "output_type": "stream",
     "text": [
      "Rosalind_6404 RNA: CCUGCGGAAGAUCGGCACUAGAAUAGCCAGAACCGUUUCUCUGAGGCUUCCGGCCUUCCCUCCCACUAAUAAUUCUGAGG\n",
      "Rosalind_5959 RNA: CCAUCGGUAGCGCAUCCUUAGUCCAAUUAAGUCCCUAUCCAGGCGCUCCGCCGAAGGUCUAUAUCCAUUUGUCAGCAGACACGC\n",
      "Rosalind_0808 RNA: CCACCCUCGUGGUAUGGCUAGGCAUUCAGGAACCGGAGAACGCUUCAGACCAGCCCGGACUGGGAACCUGCGGGCAGUAGGUGGAAU\n"
     ]
    }
   ],
   "source": [
    "for name, sequence in FASTA_sequences.items():\n",
    "    # print(name, '%GC:', GC_percentage(sequence), 'complement:', complement(sequence))\n",
    "    print(name, 'RNA:', DNAtoRNA(sequence))"
   ]
  },
  {
   "cell_type": "code",
   "execution_count": 5,
   "metadata": {},
   "outputs": [
    {
     "name": "stdout",
     "output_type": "stream",
     "text": [
      "87\n"
     ]
    }
   ],
   "source": [
    "def hamming(str1, str2):\n",
    "    count = 0\n",
    "    i = 0\n",
    "    while(i<len(str1)):\n",
    "        if(str1 != str2):\n",
    "            count+=1\n",
    "        i+=1\n",
    "    return count\n",
    "\n",
    "dist = hamming(FASTA_sequences['Rosalind_0808'], FASTA_sequences['Rosalind_5959'])\n",
    "print(dist)\n",
    "\n",
    "\n"
   ]
  },
  {
   "cell_type": "code",
   "execution_count": 6,
   "metadata": {},
   "outputs": [
    {
     "name": "stdout",
     "output_type": "stream",
     "text": [
      "[2, 27]\n"
     ]
    }
   ],
   "source": [
    "def submatches(longStr, shortStr):\n",
    "    locations = []\n",
    "    i = 0\n",
    "    while(i<len(longStr)):\n",
    "        if(longStr[i:len(shortStr)+i]==shortStr):\n",
    "            locations.append(i)\n",
    "        i+=1\n",
    "    return(locations)\n",
    "\n",
    "longString = 'ACTATCTCTCGATCGTCTAGCTAGTCGTAT'\n",
    "shortString = 'TAT'\n",
    "\n",
    "matches = submatches(longString, shortString)\n",
    "print(matches)"
   ]
  },
  {
   "cell_type": "code",
   "execution_count": 79,
   "metadata": {},
   "outputs": [
    {
     "name": "stdout",
     "output_type": "stream",
     "text": [
      "{'ACTATCTCTCGATC', 'CTATCTCTCGATCGTC', 'TCTCGATCGTCT', 'CTAGCTAGTCGTAT', 'AGCTAGT', 'CTCGATCGTCTAGC', 'TCTAGCTAGTCG', 'ACTATCT', 'TCGAT', 'CTAGT', 'ATCTC', 'TATCTCTCGATCG', 'TAGCTAGTCG', 'CTCGATCGTCTA', 'TCGATCGTCTAGCTAGTC', 'CTATCTCTCGATCGTCTAGCTAGTCGTAT', 'CT', 'CTATCTCTCGATCGTCT', 'GATCGTCTAGCTAGT', 'GTCTAGCTAG', 'CTCT', 'GTA', 'TAGCTAGTCGT', 'TATCTCTCGATCGTCTAG', 'CGATCGTCTAGCTAG', 'GTCT', 'GTCTAGCTAGTCGTA', 'CGT', 'TCGTCTAGCTAGT', 'ATCTCTCGATCGTCT', 'TA', 'CGATCGTCTAGCTAGTC', 'TCTCTC', 'GTCTAGC', 'GATCGTCTAGCTAGTCGTAT', 'TCTAGCTAGT', 'ACTATCTCTCGATCGTCTAGCTAGTC', 'GCTAG', 'CTCTCGATCGTCTAG', 'TCT', 'TCTCTCGATC', 'CTCTCGATCGTCTA', 'TATCTCTCGATCGTCTAGCTAGTCGTAT', 'TCTCTCGATCGTCTAGCTAGTC', 'CGATCGTCTAGCTAGTCG', 'TCGTCTAGCTA', 'TCTAGCTAG', 'ATC', 'TCTCGATCGTCTAGCTA', 'TCGATCGTCTA', 'TCGATCGTCTAGCTA', 'TCTCTCGATCGTCTAGCTAGTCG', 'CTCGATCGTCT', 'TAGCTAGTCGTAT', 'AGT', 'ACTATCTCTCGATCGTCTAGCT', 'CTATCT', 'CTATCTCTCG', 'TATCTCTCGATCGTC', 'CTCTCGATCGTCTAGCTAGTCG', 'TCGTCTAGCTAGTCGTA', 'CTATCTCTCGATC', 'TCTCGATCGT', 'GC', 'CTAGCTAG', 'CTCTCGATCG', 'TCTCTCGATCGTCTAG', 'CTCGATCGTCTAGCTAGTCGT', 'TCGTA', 'AT', 'CTATCTCTCGAT', 'CGATCGTCTAGCTA', 'CTAGTCGTAT', 'GTCTAGCT', 'CGTCTAGCTAGTCG', 'TCTCTCGATCGTCTAGCTAGTCGT', 'TATCTC', 'TCGT', 'AGTCGTA', 'TATCTCTCGATCGTCTAGCTAG', 'TCTCGATCGTCTAGCTAGTCGT', 'ATCGTCTAGCT', 'G', 'CTAGTCG', 'TAGCTAGT', 'AGCTAGTCG', 'TCTCTCGATCGTCTAGC', 'CGTCTAGCTAGTCGTAT', 'CTCGATCGT', 'CTCTCG', 'ACTATCTCTCGATCGTCTA', 'A', 'AGTCGTAT', 'CTCGA', 'GTCTAGCTAGTCG', 'ATCTCTCGATCGTCTAGCTAGTCGTA', 'TCTCTCG', 'TCGATCGTCTAG', 'CGAT', 'GTCTAGCTAGTCGT', 'AGC', 'ATCTCT', 'ACTATCTCTCGA', 'ACTATCTCTCGATCGTC', 'GATC', 'ATCTCTCGATCGTCTAGCTAGTCGT', 'GATCGTCTAGCTAG', 'GATCGTC', 'ACTATCTCT', 'TCTCTCGATCGTCTAGCTAGTCGTA', 'TATCT', 'CGATCGTCTAGCTAGTCGTA', 'CTCGATCGTCTAGCTAGTCG', 'TAGTCGT', 'TCTCGATCGTCTA', 'TCTAGCTAGTCGTA', 'CTCGATCGTCTAGCTAGTCGTAT', 'CTCTC', 'ATCGTCT', 'AGCTAGTCGTAT', 'CTATCTCTCGATCGTCTAGCTAGTCGT', 'ATCTCTCGATCGTCTAGCTAGT', 'TATCTCTCGATCGTCTAGCTAGT', 'ACTATCTCTCGATCGTCTAGCTAGTCG', 'TCTCT', 'GCTAGTCGT', 'CGTCT', 'TCGATC', 'TCTCGATCG', 'TCGATCG', 'TCGTCTAGCTAGTCGTAT', 'TCG', 'CGATCGTCTAGCTAGTCGTAT', 'CTCTCGA', 'CG', 'TCGTCTAG', 'TCTAGCTAGTCGT', 'ATCTCTCGATCGTC', 'TCTCTCGATCGTCTA', 'GTCTAGCTAGTC', 'CTCTCGATCGTCTAGCTAG', 'CTAGCTA', 'TATCTCTCGATCGT', 'TAG', 'TCGTCTAGCTAGTC', 'GCTAGTCG', 'GATCGT', 'ATCGTCTAGCTA', 'CGTCTAGCTAGTC', 'GTCGT', 'TCTCTCGATCGTCT', 'CTCGATCGTCTAGCTA', 'TAGCTA', 'CTATCTCT', 'ATCGT', 'TCGTCTAGCT', 'CGATC', 'TATCTCTCG', 'TCTCGA', 'TATCTCTCGATCGTCTAGC', 'ATCTCTCG', 'ATCTCTCGATCGTCTAGCTAGTCGTAT', 'CTAGTCGTA', 'GATCG', 'AGTCGT', 'TCGATCGTCT', 'GCTA', 'AGCTAGTCGTA', 'AGCTAG', 'CGTC', 'ATCTCTCGATCGTCTAGCTAGTCG', 'CTAGCTAGT', 'TAGTCGTAT', 'ACTATCTCTCGATCGTCTAGCTAGTCGT', 'CTATCTCTCGATCGTCTAG', 'CTATCTCTCGATCGTCTAGCTAGT', 'ACTATCTCTCGATCGT', 'CTATCTCTCGATCGTCTAGCTAGTCGTA', 'TCTAGCT', 'ATCTCTCGATCG', 'ACTATCTCTCGATCGTCTAGCTA', 'TCTAGCTA', 'CTAT', 'TATCTCTCGATCGTCTAGCTAGTCGTA', 'ACTATCTCTCGATCGTCTAGC', 'ATCTCTCGATCGTCTAG', 'GATCGTCTAGCTAGTCGTA', 'TATCTCTCGATCGTCTAGCTAGTCG', 'TCTCGATCGTCTAG', 'TCGTCTAGCTAGTCGT', 'TAGTC', 'CGATCG', 'TCGATCGTCTAGCTAGTCG', 'C', 'GCTAGT', 'ATCGTCTAGCTAGTCGTAT', 'ATCGTCTAGCTAGTCGTA', 'CGATCGTCTA', 'GATCGTCTAGC', 'CGTAT', 'CGATCGTC', 'GCTAGTCGTA', 'TCGATCGTC', 'CGTCTA', 'CGTCTAG', 'ATCTCTC', 'CTCTCGATCGTCT', 'TCTCGATC', 'GCTAGTC', 'GATCGTCTAGCTAGTCGT', 'CTCTCGATCGTCTAGCTAGTCGT', 'TCGATCGTCTAGCTAGTCGT', 'CTAGCTAGTCG', 'TAGC', 'AC', 'CTCTCGATCGTCTAGCTAGT', 'ACT', 'TAGTCGTA', 'TCGATCGTCTAGCTAGTCGTAT', 'ATCGTCTAGC', 'TAGCT', 'ACTATC', 'ATCTCTCGATCGT', 'CTAGCTAGTCGTA', 'CTCGATCGTCTAGCTAGT', 'ATCTCTCGATCGTCTAGC', 'TAGT', 'ACTATCTCTCGATCG', 'CTAGC', 'AG', 'ACTATCTCTCGATCGTCTAG', 'ACTATCTCTCGAT', 'ATCGTCTA', 'ACTA', 'CTATCTCTCGATCGTCTAGCT', 'AGCT', 'TAT', 'TCGATCGTCTAGCT', 'CTCTCGATCGTCTAGCTA', 'GTCGTA', 'CTCGATCGTC', 'GT', 'TC', 'ACTATCTCTCGATCGTCTAGCTAGT', 'TCTCGATCGTC', 'GTCTAG', 'TCTA', 'CTCTCGATCGTCTAGCTAGTCGTA', 'AGCTA', 'TCTCTCGA', 'CTCTCGATC', 'CTCTCGATCGTC', 'ACTATCTCTCG', 'CTC', 'CTATCTCTCGATCG', 'GAT', 'ATCGTCTAGCTAGTC', 'GCT', 'GTCTAGCTAGTCGTAT', 'GATCGTCTA', 'CTAGTCGT', 'CTATCTCTCGATCGTCTAGCTAGTCG', 'CTCGATCGTCTAGCTAGTCGTA', 'TATCTCTCGAT', 'ACTATCTCTC', 'TCTCGATCGTCTAGC', 'GTCTA', 'TATCTCTCGATC', 'TCGATCGTCTAGCTAG', 'TCTCTCGATCGTC', 'CTCTCGATCGT', 'TCGTAT', 'ATCTCTCGATC', 'TATCTCTCGATCGTCTAGCTAGTCGT', 'CGTCTAGCT', 'TAGCTAGTC', 'TATCTCTC', 'CTCG', 'GA', 'ATCTCTCGATCGTCTA', 'TCGATCGTCTAGC', 'ATCGTCTAGCTAGT', 'GTCG', 'CTCTCGATCGTCTAGCT', 'CTCGAT', 'TCTAGCTAGTC', 'CTATCTCTCGATCGTCTAGCTAGTC', 'TCTCG', 'TCGTC', 'CTATCTCTCGA', 'TCTC', 'CGATCGTCTAGCTAGT', 'TATC', 'TCGTCTA', 'TCTCTCGATCGTCTAGCTAGTCGTAT', 'CGATCGTCT', 'TCTAG', 'GATCGTCT', 'CGTCTAGCTA', 'CTAGCT', 'CTCGATCGTCTAGCTAG', 'TCGTCT', 'TCTCTCGATCGTCTAGCTAG', 'ACTATCTCTCGATCGTCTAGCTAG', 'CTAGCTAGTC', 'CGTCTAGCTAGT', 'GATCGTCTAGCTAGTC', 'TCTCGATCGTCTAGCTAGT', 'GTC', 'TCTCTCGATCGTCTAGCTAGT', 'CTCTCGATCGTCTAGCTAGTC', 'GTAT', 'CGA', 'GTCTAGCTA', 'TCTCGATCGTCTAGCTAG', 'AGCTAGTCGT', 'CTATCTCTCGATCGTCTAGCTAG', 'GATCGTCTAGCTA', 'CGATCGTCTAGCTAGTCGT', 'TCTCGATCGTCTAGCTAGTCGTAT', 'TCTCTCGATCGTCTAGCT', 'CTCTCGAT', 'TCTCGATCGTCTAGCTAGTCGTA', 'CTCGATCGTCTAGCTAGTC', 'GTCTAGCTAGT', 'TAGCTAG', 'CGTCTAGCTAGTCGT', 'ATCGTCTAGCTAG', 'TAGTCG', 'ATCTCTCGATCGTCTAGCTA', 'ACTATCTCTCGATCGTCTAGCTAGTCGTA', 'AGTC', 'CTAGCTAGTCGT', 'TCGATCGTCTAGCTAGTCGTA', 'ATCGTCTAGCTAGTCGT', 'GCTAGTCGTAT', 'CTATC', 'TATCTCTCGATCGTCTAGCTA', 'ATCTCTCGATCGTCTAGCT', 'CGATCGTCTAGCT', 'ATCG', 'TCGTCTAGCTAG', 'CTAGTC', 'CGTCTAGCTAG', 'CTCGATCG', 'ATCGTCTAG', 'CGATCGTCTAG', 'TCTCTCGATCGT', 'TATCTCTCGATCGTCT', 'CTCGATCGTCTAGCT', 'CTCTCGATCGTCTAGCTAGTCGTAT', 'TCTCTCGAT', 'TCTCGAT', 'ACTAT', 'TCTCTCGATCG', 'GTCGTAT', 'CGTCTAGC', 'ATCTCTCGA', 'TCTCGATCGTCTAGCTAGTC', 'TCTCGATCGTCTAGCT', 'CTATCTCTC', 'CTATCTCTCGATCGT', 'ATCT', 'CTAG', 'TCGTCTAGCTAGTCG', 'ACTATCTC', 'TCGA', 'CGTA', 'CTATCTCTCGATCGTCTA', 'GATCGTCTAG', 'CGTCTAGCTAGTCGTA', 'TATCTCTCGATCGTCTAGCT', 'TATCTCTCGATCGTCTAGCTAGTC', 'ACTATCTCTCGATCGTCT', 'TCTAGCTAGTCGTAT', 'CTCTCGATCGTCTAGC', 'TCTCTCGATCGTCTAGCTA', 'CTCGATC', 'CTA', 'AGTCG', 'ACTATCTCTCGATCGTCTAGCTAGTCGTAT', 'TCTCGATCGTCTAGCTAGTCG', 'TCGATCGTCTAGCTAGT', 'ATCTCTCGAT', 'T', 'AGCTAGTC', 'TCGTCTAGC', 'CTCGATCGTCTAG', 'TATCTCT', 'CTATCTCTCGATCGTCTAGCTA', 'TAGCTAGTCGTA', 'ATCTCTCGATCGTCTAGCTAG', 'CTATCTC', 'TATCTCTCGATCGTCTA', 'ATCGTC', 'TCGATCGT', 'CGATCGTCTAGC', 'GATCGTCTAGCTAGTCG', 'CGATCGT', 'TATCTCTCGA', 'ATCTCTCGATCGTCTAGCTAGTC', 'TCTAGC', 'GATCGTCTAGCT', 'CTATCTCTCGATCGTCTAGC', 'ATCGTCTAGCTAGTCG'}\n"
     ]
    }
   ],
   "source": [
    "anotherLongString = 'ACTTTATATACCCTATATGGGGG'\n",
    "yetAnotherLongString = 'TATATATAGGGTATAAAAAAAAA'\n",
    "\n",
    "def uniqueSubstrings(inputString):\n",
    "    all_substrings = []\n",
    "    for i in range(0, len(inputString)):\n",
    "        for j in range(i+1, len(inputString)+1):\n",
    "            subString = inputString[i:j]\n",
    "            all_substrings.append(subString)\n",
    "    return(set(all_substrings))\n",
    "\n",
    "list_of_strings = [longString, anotherLongString, yetAnotherLongString]\n",
    "\n",
    "nested_list = list(map(uniqueSubstrings, list_of_strings))\n",
    "\n",
    "print(nested_list[0])\n"
   ]
  },
  {
   "cell_type": "code",
   "execution_count": 85,
   "metadata": {},
   "outputs": [
    {
     "name": "stdout",
     "output_type": "stream",
     "text": [
      "True\n",
      "False\n"
     ]
    }
   ],
   "source": [
    "def isPalindrome(inputString):\n",
    "    return inputString == inputString[::-1]\n",
    "\n",
    "print(isPalindrome('ATTTTA'))   \n",
    "   \n",
    "print(isPalindrome('TAGGGGG'))  "
   ]
  }
 ],
 "metadata": {
  "kernelspec": {
   "display_name": "python3.12",
   "language": "python",
   "name": "python3"
  },
  "language_info": {
   "codemirror_mode": {
    "name": "ipython",
    "version": 3
   },
   "file_extension": ".py",
   "mimetype": "text/x-python",
   "name": "python",
   "nbconvert_exporter": "python",
   "pygments_lexer": "ipython3",
   "version": "3.12.9"
  }
 },
 "nbformat": 4,
 "nbformat_minor": 2
}
