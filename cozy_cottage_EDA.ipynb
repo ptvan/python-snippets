from sklearn.decomposition import PCA
from sklearn.manifold import TSNE
import pandas as pd
import numpy as np
import seaborn as sns

cottage = pd.read_csv("datasets/cozycottage/cozycottage_data.csv")
